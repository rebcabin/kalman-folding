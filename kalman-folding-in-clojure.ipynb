{
 "cells": [
  {
   "cell_type": "markdown",
   "metadata": {
    "slideshow": {
     "slide_type": "-"
    }
   },
   "source": [
    "# KALMAN FOLDING IN CLOJURE"
   ]
  },
  {
   "cell_type": "markdown",
   "metadata": {},
   "source": [
    "Some sample data:"
   ]
  },
  {
   "cell_type": "code",
   "execution_count": 1,
   "metadata": {
    "collapsed": false
   },
   "outputs": [
    {
     "data": {
      "text/plain": [
       "#'user/zs"
      ]
     },
     "execution_count": 1,
     "metadata": {},
     "output_type": "execute_result"
    }
   ],
   "source": [
    "(def zs [-0.178654, 0.828305, 0.0592247, -0.0121089, -1.48014, \n",
    "         -0.315044, -0.324796, -0.676357, 0.16301, -0.858164])"
   ]
  },
  {
   "cell_type": "markdown",
   "metadata": {},
   "source": [
    "TODO: generate new random data."
   ]
  },
  {
   "cell_type": "markdown",
   "metadata": {},
   "source": [
    "TODO: make it work over core.async or Rx or whatever."
   ]
  },
  {
   "cell_type": "markdown",
   "metadata": {},
   "source": [
    "TODO: incanter integration"
   ]
  },
  {
   "cell_type": "markdown",
   "metadata": {},
   "source": [
    "## RUNNING COUNT"
   ]
  },
  {
   "cell_type": "markdown",
   "metadata": {},
   "source": [
    "The traditional and obvious way:"
   ]
  },
  {
   "cell_type": "code",
   "execution_count": 2,
   "metadata": {
    "collapsed": false
   },
   "outputs": [
    {
     "data": {
      "text/plain": [
       "10"
      ]
     },
     "execution_count": 2,
     "metadata": {},
     "output_type": "execute_result"
    }
   ],
   "source": [
    "(reduce (fn [c z] (inc c)) 0 zs)"
   ]
  },
  {
   "cell_type": "markdown",
   "metadata": {},
   "source": [
    "A thread-safe way:"
   ]
  },
  {
   "cell_type": "code",
   "execution_count": 3,
   "metadata": {
    "collapsed": false
   },
   "outputs": [
    {
     "data": {
      "text/plain": [
       "10"
      ]
     },
     "execution_count": 3,
     "metadata": {},
     "output_type": "execute_result"
    }
   ],
   "source": [
    "(let [initial-count 0\n",
    "      running-count (atom initial-count)]\n",
    "    (reduce (fn [c z]\n",
    "                (swap! running-count inc)\n",
    "                @running-count) ; ~~> new value for c\n",
    "            initial-count\n",
    "            zs))"
   ]
  },
  {
   "cell_type": "markdown",
   "metadata": {},
   "source": [
    "A thread-safe way, without `reduce`:"
   ]
  },
  {
   "cell_type": "code",
   "execution_count": 4,
   "metadata": {
    "collapsed": false
   },
   "outputs": [
    {
     "data": {
      "text/plain": [
       "10"
      ]
     },
     "execution_count": 4,
     "metadata": {},
     "output_type": "execute_result"
    }
   ],
   "source": [
    "(let [initial-count 0\n",
    "      running-count (atom initial-count)]\n",
    "    (dorun\n",
    "        (map (fn [z]\n",
    "                 (swap! running-count inc))\n",
    "             zs))\n",
    "    @running-count)"
   ]
  },
  {
   "cell_type": "markdown",
   "metadata": {},
   "source": [
    "## RUNNING MEAN"
   ]
  },
  {
   "cell_type": "code",
   "execution_count": 74,
   "metadata": {
    "collapsed": false
   },
   "outputs": [
    {
     "data": {
      "text/plain": [
       "{:count 10, :mean -0.27947242}"
      ]
     },
     "execution_count": 74,
     "metadata": {},
     "output_type": "execute_result"
    }
   ],
   "source": [
    "(let [initial-count 0\n",
    "      initial-mean  0\n",
    "      initial-stats {:count initial-count\n",
    "                     :mean  initial-mean}\n",
    "      running-stats (atom initial-stats)]\n",
    "    (dorun\n",
    "        (map (fn [z]\n",
    "                 (let [{x :mean, n :count} @running-stats\n",
    "                       n+1 (inc n)]\n",
    "                     (swap! running-stats conj\n",
    "                            [:count n+1]\n",
    "                            [:mean (let [K (/ 1.0 n+1)]\n",
    "                                           (+ x (* K (- z x))))])))\n",
    "             zs))\n",
    "    @running-stats)"
   ]
  },
  {
   "cell_type": "markdown",
   "metadata": {},
   "source": [
    "We can refactor this to provide the running mean at every step. This is like a `scan` in Haskell or a `FoldList` in Wolfram. It's also more hopitable to reapplication on an async stream."
   ]
  },
  {
   "cell_type": "code",
   "execution_count": 73,
   "metadata": {
    "collapsed": false
   },
   "outputs": [
    {
     "name": "stdout",
     "output_type": "stream",
     "text": [
      "({:count 1, :mean -0.178654}\n",
      " {:count 2, :mean 0.3248255}\n",
      " {:count 3, :mean 0.2362919}\n",
      " {:count 4, :mean 0.1741917}\n",
      " {:count 5, :mean -0.15667464000000003}\n",
      " {:count 6, :mean -0.18306953333333337}\n",
      " {:count 7, :mean -0.20331617142857145}\n",
      " {:count 8, :mean -0.262446275}\n",
      " {:count 9, :mean -0.21517335555555556}\n",
      " {:count 10, :mean -0.27947242})\n"
     ]
    }
   ],
   "source": [
    "(defn make-running-stats-mapper []\n",
    "    (let [initial-count 0\n",
    "          initial-mean  0\n",
    "          initial-stats {:count initial-count :mean  initial-mean}\n",
    "          running-stats (atom initial-stats)]\n",
    "        (fn [z]\n",
    "            (let [{x :mean, n :count} @running-stats\n",
    "                   n+1 (inc n)]\n",
    "                (swap! running-stats conj\n",
    "                       [:count n+1]\n",
    "                       [:mean (let [K (/ 1.0 n+1)]\n",
    "                                  (+ x (* K (- z x))))]))\n",
    "            @running-stats)))\n",
    "(clojure.pprint/pprint (map (make-running-stats-mapper) zs))"
   ]
  },
  {
   "cell_type": "markdown",
   "metadata": {},
   "source": [
    "### NUMERICAL CHECK"
   ]
  },
  {
   "cell_type": "code",
   "execution_count": 76,
   "metadata": {
    "collapsed": false
   },
   "outputs": [
    {
     "data": {
      "text/plain": [
       "-0.27947242"
      ]
     },
     "execution_count": 76,
     "metadata": {},
     "output_type": "execute_result"
    }
   ],
   "source": [
    "(/ (reduce + zs) (count zs))"
   ]
  },
  {
   "cell_type": "markdown",
   "metadata": {},
   "source": [
    "## CORE.ASYNC"
   ]
  },
  {
   "cell_type": "code",
   "execution_count": 77,
   "metadata": {
    "collapsed": true
   },
   "outputs": [],
   "source": [
    "(require '[clojure.core.async :refer [onto-chan sliding-buffer \n",
    "                                      dropping-buffer buffer\n",
    "                                      <!! <! >! >!! go chan \n",
    "                                      close! thread \n",
    "                                      alts! alts!! timeout]])"
   ]
  },
  {
   "cell_type": "markdown",
   "metadata": {},
   "source": [
    "We can write on the asynch thread and read on the UI thread:"
   ]
  },
  {
   "cell_type": "code",
   "execution_count": 78,
   "metadata": {
    "collapsed": false
   },
   "outputs": [
    {
     "name": "stdout",
     "output_type": "stream",
     "text": [
      "42\n"
     ]
    }
   ],
   "source": [
    "(let [c (chan)]\n",
    "    (go (>! c 42))\n",
    "    (println (<!! c))\n",
    "    (close! c))"
   ]
  },
  {
   "cell_type": "markdown",
   "metadata": {},
   "source": [
    "We can read on the async thread and write on the UI thread:"
   ]
  },
  {
   "cell_type": "code",
   "execution_count": 79,
   "metadata": {
    "collapsed": false
   },
   "outputs": [
    {
     "name": "stdout",
     "output_type": "stream",
     "text": [
      "42\n"
     ]
    }
   ],
   "source": [
    "(let [c (chan)]\n",
    "    (go (println (<! c)))\n",
    "    (>!! c 42)\n",
    "    (close! c))"
   ]
  },
  {
   "cell_type": "markdown",
   "metadata": {},
   "source": [
    "In all cases, we must do any blocking call without timeout on the UI thread last. The following will hang:"
   ]
  },
  {
   "cell_type": "code",
   "execution_count": 80,
   "metadata": {
    "collapsed": false
   },
   "outputs": [],
   "source": [
    "#_(let [c (chan)]\n",
    "    (>!! c 42)\n",
    "    (go (println (<! c)))\n",
    "    (close! c))"
   ]
  },
  {
   "cell_type": "markdown",
   "metadata": {},
   "source": [
    "We're won't block if we add a timeout, but we don't know how to write to a timeout channel:"
   ]
  },
  {
   "cell_type": "code",
   "execution_count": 80,
   "metadata": {
    "collapsed": false
   },
   "outputs": [
    {
     "name": "stdout",
     "output_type": "stream",
     "text": [
      "IllegalArgumentException No implementation of method: :put! of protocol: #'clojure.core.async.impl.protocols/WritePort found for class: clojure.lang.PersistentVector  clojure.core/-cache-protocol-fn (core_deftype.clj:568)\n"
     ]
    },
    {
     "ename": "class java.lang.IllegalArgumentException",
     "evalue": "",
     "output_type": "error",
     "traceback": [
      "       core_deftype.clj:   568 clojure.core$_cache_protocol_fn/invokeStatic                      ",
      "       core_deftype.clj:   560 clojure.core$_cache_protocol_fn/invoke                            ",
      "          protocols.clj:    18 clojure.core.async.impl.protocols$fn__10594$G__10589__10603/invoke",
      "              async.clj:   142 clojure.core.async$_GT__BANG__BANG_/invokeStatic                  ",
      "              async.clj:   137 clojure.core.async$_GT__BANG__BANG_/invoke                        ",
      "                     []:     2 user$eval4590/invokeStatic                                        ",
      "                     []:     1 user$eval4590/invoke                                              ",
      "               core.clj:  3105 clojure.core$eval/invokeStatic                                    ",
      "               core.clj:  3101 clojure.core$eval/invoke                                          ",
      "               main.clj:   240 clojure.main$repl$read_eval_print__7408$fn__7411/invoke           ",
      "               main.clj:   258 clojure.main$repl$fn__7417/invoke                                 ",
      "               main.clj:   174 clojure.main$repl/doInvoke                                        ",
      "            RestFn.java:  1523 clojure.lang.RestFn/invoke                                        ",
      "               AFn.java:   152 clojure.lang.AFn/applyToHelper                                    ",
      "               AFn.java:   144 clojure.lang.AFn/applyTo                                          ",
      "               core.clj:   646 clojure.core$apply/invokeStatic                                   ",
      "               core.clj:  1881 clojure.core$with_bindings_STAR_/invokeStatic                     ",
      "            RestFn.java:   425 clojure.lang.RestFn/invoke                                        ",
      "               AFn.java:    22 clojure.lang.AFn/run                                              ",
      "ThreadPoolExecutor.java:  1142 java.util.concurrent.ThreadPoolExecutor/runWorker                 ",
      "ThreadPoolExecutor.java:   617 java.util.concurrent.ThreadPoolExecutor$Worker/run                ",
      "            Thread.java:   748 java.lang.Thread/run                                              "
     ]
    }
   ],
   "source": [
    "(let [c (chan)]\n",
    "    (>!! (alts!! [c (timeout 500)]) 42)\n",
    "    (go (println (<! c)))\n",
    "    (close! c))"
   ]
  },
  {
   "cell_type": "markdown",
   "metadata": {
    "collapsed": true
   },
   "source": [
    "We can't read from a `timeout` channel either, but at least we won't hang. Here, we do the blocking read too early on the UI thread:"
   ]
  },
  {
   "cell_type": "code",
   "execution_count": 80,
   "metadata": {
    "collapsed": false
   },
   "outputs": [
    {
     "name": "stdout",
     "output_type": "stream",
     "text": [
      "IllegalArgumentException No implementation of method: :take! of protocol: #'clojure.core.async.impl.protocols/ReadPort found for class: clojure.lang.PersistentVector  clojure.core/-cache-protocol-fn (core_deftype.clj:568)\n"
     ]
    },
    {
     "ename": "class java.lang.IllegalArgumentException",
     "evalue": "",
     "output_type": "error",
     "traceback": [
      "       core_deftype.clj:   568 clojure.core$_cache_protocol_fn/invokeStatic                      ",
      "       core_deftype.clj:   560 clojure.core$_cache_protocol_fn/invoke                            ",
      "          protocols.clj:    15 clojure.core.async.impl.protocols$fn__10576$G__10571__10583/invoke",
      "              async.clj:   111 clojure.core.async$_LT__BANG__BANG_/invokeStatic                  ",
      "              async.clj:   106 clojure.core.async$_LT__BANG__BANG_/invoke                        ",
      "                     []:     2 user$eval4616/invokeStatic                                        ",
      "                     []:     1 user$eval4616/invoke                                              ",
      "               core.clj:  3105 clojure.core$eval/invokeStatic                                    ",
      "               core.clj:  3101 clojure.core$eval/invoke                                          ",
      "               main.clj:   240 clojure.main$repl$read_eval_print__7408$fn__7411/invoke           ",
      "               main.clj:   258 clojure.main$repl$fn__7417/invoke                                 ",
      "               main.clj:   174 clojure.main$repl/doInvoke                                        ",
      "            RestFn.java:  1523 clojure.lang.RestFn/invoke                                        ",
      "               AFn.java:   152 clojure.lang.AFn/applyToHelper                                    ",
      "               AFn.java:   144 clojure.lang.AFn/applyTo                                          ",
      "               core.clj:   646 clojure.core$apply/invokeStatic                                   ",
      "               core.clj:  1881 clojure.core$with_bindings_STAR_/invokeStatic                     ",
      "            RestFn.java:   425 clojure.lang.RestFn/invoke                                        ",
      "               AFn.java:    22 clojure.lang.AFn/run                                              ",
      "ThreadPoolExecutor.java:  1142 java.util.concurrent.ThreadPoolExecutor/runWorker                 ",
      "ThreadPoolExecutor.java:   617 java.util.concurrent.ThreadPoolExecutor$Worker/run                ",
      "            Thread.java:   748 java.lang.Thread/run                                              "
     ]
    }
   ],
   "source": [
    "(let [c (chan)]\n",
    "    (println (<!! (alts!! [c (timeout 500)])))\n",
    "    (go (>! c 42))\n",
    "    (close! c))"
   ]
  },
  {
   "cell_type": "markdown",
   "metadata": {},
   "source": [
    "The following illustrates putting data in a blocking channel at random times and reading some of them on the UI thread. It will leave values in the channel and thus leak the channel according to the documentation for `close!` here https://clojure.github.io/core.async/api-index.html#C."
   ]
  },
  {
   "cell_type": "code",
   "execution_count": 81,
   "metadata": {
    "collapsed": false
   },
   "outputs": [
    {
     "name": "stdout",
     "output_type": "stream",
     "text": [
      "0.828305\n",
      "-0.315044\n",
      "-0.324796\n"
     ]
    }
   ],
   "source": [
    "(def echo-chan (chan))\n",
    "\n",
    "(doseq   [z zs] (go (Thread/sleep (rand 100)) (>! echo-chan z)))\n",
    "(dotimes [_ 3] (println (<!! echo-chan)))\n",
    "\n",
    "(close! echo-chan)"
   ]
  },
  {
   "cell_type": "markdown",
   "metadata": {},
   "source": [
    "We can chain channels. Reading from `echo-chan` may hang the UI thread because the UI thread races the internal thread that reads `echo-chan`, but the timeout trick works here as above. This will also leak channels."
   ]
  },
  {
   "cell_type": "code",
   "execution_count": 81,
   "metadata": {
    "collapsed": false
   },
   "outputs": [
    {
     "name": "stdout",
     "output_type": "stream",
     "text": [
      "IllegalArgumentException No implementation of method: :take! of protocol: #'clojure.core.async.impl.protocols/ReadPort found for class: clojure.lang.PersistentVector  clojure.core/-cache-protocol-fn (core_deftype.clj:568)\n"
     ]
    },
    {
     "ename": "class java.lang.IllegalArgumentException",
     "evalue": "",
     "output_type": "error",
     "traceback": [
      "       core_deftype.clj:   568 clojure.core$_cache_protocol_fn/invokeStatic                      ",
      "       core_deftype.clj:   560 clojure.core$_cache_protocol_fn/invoke                            ",
      "          protocols.clj:    15 clojure.core.async.impl.protocols$fn__10576$G__10571__10583/invoke",
      "              async.clj:   111 clojure.core.async$_LT__BANG__BANG_/invokeStatic                  ",
      "              async.clj:   106 clojure.core.async$_LT__BANG__BANG_/invoke                        ",
      "                     []:     6 user$eval4785/invokeStatic                                        ",
      "               core.clj:  3105 clojure.core$eval/invokeStatic                                    ",
      "               core.clj:  3101 clojure.core$eval/invoke                                          ",
      "               main.clj:   240 clojure.main$repl$read_eval_print__7408$fn__7411/invoke           ",
      "               main.clj:   258 clojure.main$repl$fn__7417/invoke                                 ",
      "               main.clj:   174 clojure.main$repl/doInvoke                                        ",
      "            RestFn.java:  1523 clojure.lang.RestFn/invoke                                        ",
      "               AFn.java:   152 clojure.lang.AFn/applyToHelper                                    ",
      "               AFn.java:   144 clojure.lang.AFn/applyTo                                          ",
      "               core.clj:   646 clojure.core$apply/invokeStatic                                   ",
      "               core.clj:  1881 clojure.core$with_bindings_STAR_/invokeStatic                     ",
      "            RestFn.java:   425 clojure.lang.RestFn/invoke                                        ",
      "               AFn.java:    22 clojure.lang.AFn/run                                              ",
      "ThreadPoolExecutor.java:  1142 java.util.concurrent.ThreadPoolExecutor/runWorker                 ",
      "ThreadPoolExecutor.java:   617 java.util.concurrent.ThreadPoolExecutor$Worker/run                ",
      "            Thread.java:   748 java.lang.Thread/run                                              "
     ]
    }
   ],
   "source": [
    "(def echo-chan (chan))\n",
    "(def repl-chan (chan))\n",
    "\n",
    "(dotimes [_ 10] (go (>! repl-chan (<! echo-chan))))\n",
    "(doseq   [z zs] (go (Thread/sleep (rand 100)) (>! echo-chan z)))\n",
    "(dotimes [_ 3] (println (<!! (alts!! [echo-chan (timeout 500)]))))\n",
    "\n",
    "(close! echo-chan)\n",
    "(close! repl-chan)"
   ]
  },
  {
   "cell_type": "markdown",
   "metadata": {},
   "source": [
    "`println` on a `go` process works if we wait long enough. This, of course, is bad practice or \"code smell.\""
   ]
  },
  {
   "cell_type": "code",
   "execution_count": 86,
   "metadata": {
    "collapsed": false
   },
   "outputs": [
    {
     "name": "stdout",
     "output_type": "stream",
     "text": [
      "-0.0121089\n",
      "-1.48014\n",
      "0.16301\n"
     ]
    }
   ],
   "source": [
    "(def echo-chan (chan))\n",
    "\n",
    "(doseq   [z zs] (go (Thread/sleep (rand 100)) (>! echo-chan z)))\n",
    "(dotimes [_ 3]  (go (println (<! echo-chan))))\n",
    "\n",
    "(Thread/sleep 500) ; no visible output if you remove this line.\n",
    "(close! echo-chan)"
   ]
  },
  {
   "cell_type": "markdown",
   "metadata": {},
   "source": [
    "### ASYNC RUNNING MEAN"
   ]
  },
  {
   "cell_type": "markdown",
   "metadata": {},
   "source": [
    "We want our `running-stats` function called with the data delivered at random times and in random order. A transducer lets us collect items off the buffer. The size of the buffer does not matter."
   ]
  },
  {
   "cell_type": "code",
   "execution_count": 90,
   "metadata": {
    "collapsed": false
   },
   "outputs": [
    {
     "name": "stdout",
     "output_type": "stream",
     "text": [
      "{:count 1, :mean -0.324796}\n",
      "{:count 2, :mean -0.251725}\n",
      "{:count 3, :mean -0.6611966666666667}\n",
      "{:count 4, :mean -0.49892472499999996}\n",
      "{:count 5, :mean -0.46214858}\n",
      "{:count 6, :mean -0.52815115}\n",
      "{:count 7, :mean -0.5493234142857143}\n",
      "{:count 8, :mean -0.47325490000000003}\n",
      "{:count 9, :mean -0.3286371333333334}\n",
      "{:count 10, :mean -0.27947242000000005}\n"
     ]
    }
   ],
   "source": [
    "(def echo-chan (chan (buffer 1) (map (make-running-stats-mapper))))\n",
    "(doseq [z zs] (go (Thread/sleep (rand 100)) (>! echo-chan z)))\n",
    "(dotimes [_ 10] (println (<!! echo-chan)))\n",
    "(close! echo-chan)"
   ]
  },
  {
   "cell_type": "markdown",
   "metadata": {},
   "source": [
    "## RUNNING STDDEV"
   ]
  },
  {
   "cell_type": "code",
   "execution_count": null,
   "metadata": {
    "collapsed": true
   },
   "outputs": [],
   "source": []
  }
 ],
 "metadata": {
  "kernelspec": {
   "display_name": "Clojure",
   "language": "clojure",
   "name": "clojure"
  },
  "language_info": {
   "file_extension": ".clj",
   "mimetype": "text/x-clojure",
   "name": "clojure",
   "version": "1.8.0"
  }
 },
 "nbformat": 4,
 "nbformat_minor": 2
}
