{
 "cells": [
  {
   "cell_type": "markdown",
   "metadata": {
    "slideshow": {
     "slide_type": "-"
    }
   },
   "source": [
    "# KALMAN FOLDING IN CLOJURE"
   ]
  },
  {
   "cell_type": "markdown",
   "metadata": {},
   "source": [
    "Some sample data:"
   ]
  },
  {
   "cell_type": "code",
   "execution_count": 138,
   "metadata": {
    "collapsed": false
   },
   "outputs": [
    {
     "data": {
      "text/plain": [
       "#'user/zs"
      ]
     },
     "execution_count": 138,
     "metadata": {},
     "output_type": "execute_result"
    }
   ],
   "source": [
    "(def zs [-0.178654, 0.828305, 0.0592247, -0.0121089, -1.48014, \n",
    "         -0.315044, -0.324796, -0.676357, 0.16301, -0.858164])"
   ]
  },
  {
   "cell_type": "markdown",
   "metadata": {},
   "source": [
    "TODO: generate new random data."
   ]
  },
  {
   "cell_type": "markdown",
   "metadata": {},
   "source": [
    "TODO: incanter integration"
   ]
  },
  {
   "cell_type": "markdown",
   "metadata": {},
   "source": [
    "## RUNNING COUNT"
   ]
  },
  {
   "cell_type": "markdown",
   "metadata": {},
   "source": [
    "The traditional and obvious way:"
   ]
  },
  {
   "cell_type": "code",
   "execution_count": 139,
   "metadata": {
    "collapsed": false
   },
   "outputs": [
    {
     "data": {
      "text/plain": [
       "10"
      ]
     },
     "execution_count": 139,
     "metadata": {},
     "output_type": "execute_result"
    }
   ],
   "source": [
    "(reduce (fn [c z] (inc c)) 0 zs)"
   ]
  },
  {
   "cell_type": "code",
   "execution_count": 140,
   "metadata": {
    "collapsed": false
   },
   "outputs": [
    {
     "data": {
      "text/plain": [
       "(0 1 2 3 4 5 6 7 8 9 10)"
      ]
     },
     "execution_count": 140,
     "metadata": {},
     "output_type": "execute_result"
    }
   ],
   "source": [
    "(reductions (fn [c z] (inc c)) 0 zs)"
   ]
  },
  {
   "cell_type": "markdown",
   "metadata": {},
   "source": [
    "A thread-safe way; overkill, but shows the _let-over-lambda_ style of closing over stateful variables. We can do everything in this paper with pure functions, as above, but this style is more in keeping with commonplace stateful intuitions. It also illustrates Clojure's beautiful handling of _state_ as distinct from _identity_, distinguishing Clojure in a positive light from more standard object-oriented approaches."
   ]
  },
  {
   "cell_type": "code",
   "execution_count": 143,
   "metadata": {
    "collapsed": false
   },
   "outputs": [
    {
     "data": {
      "text/plain": [
       "10"
      ]
     },
     "execution_count": 143,
     "metadata": {},
     "output_type": "execute_result"
    }
   ],
   "source": [
    "(let [initial-count 0]\n",
    "    (reduce\n",
    "        (let [running-count (atom initial-count)]\n",
    "            (fn [c z]\n",
    "                (swap! running-count inc)\n",
    "                @running-count)) ; ~~> new value for c\n",
    "        initial-count\n",
    "        zs))"
   ]
  },
  {
   "cell_type": "markdown",
   "metadata": {},
   "source": [
    "Here is a version that shows all intermediate results."
   ]
  },
  {
   "cell_type": "code",
   "execution_count": 144,
   "metadata": {
    "collapsed": false
   },
   "outputs": [
    {
     "data": {
      "text/plain": [
       "(0 1 2 3 4 5 6 7 8 9 10)"
      ]
     },
     "execution_count": 144,
     "metadata": {},
     "output_type": "execute_result"
    }
   ],
   "source": [
    "(let [initial-count 0]\n",
    "    (reductions\n",
    "        (let [running-count (atom initial-count)]\n",
    "            (fn [c z]\n",
    "                (swap! running-count inc)\n",
    "                @running-count)) ; ~~> new value for c\n",
    "        initial-count\n",
    "        zs))"
   ]
  },
  {
   "cell_type": "markdown",
   "metadata": {},
   "source": [
    "A thread-safe way, without `reduce`:"
   ]
  },
  {
   "cell_type": "code",
   "execution_count": 106,
   "metadata": {
    "collapsed": false
   },
   "outputs": [
    {
     "name": "stdout",
     "output_type": "stream",
     "text": [
      "1 2 3 4 5 6 7 8 9 10 "
     ]
    }
   ],
   "source": [
    "(let [initial-count 0\n",
    "      running-count (atom initial-count)]\n",
    "    (dorun\n",
    "        (map (fn [z]\n",
    "                 (swap! running-count inc)\n",
    "                 (print (str @running-count \" \")))\n",
    "             zs)))"
   ]
  },
  {
   "cell_type": "code",
   "execution_count": 146,
   "metadata": {
    "collapsed": false
   },
   "outputs": [
    {
     "name": "stdout",
     "output_type": "stream",
     "text": [
      "1 2 3 4 5 6 7 8 9 10 "
     ]
    }
   ],
   "source": [
    "(dorun (map \n",
    "           (let [initial-count 0\n",
    "                 running-count (atom initial-count)]\n",
    "               (fn [z]\n",
    "                   (swap! running-count inc)\n",
    "                   (print (str @running-count \" \"))))\n",
    "           zs))"
   ]
  },
  {
   "cell_type": "markdown",
   "metadata": {},
   "source": [
    "## RUNNING MEAN"
   ]
  },
  {
   "cell_type": "code",
   "execution_count": 147,
   "metadata": {
    "collapsed": false
   },
   "outputs": [
    {
     "name": "stdout",
     "output_type": "stream",
     "text": [
      "{:count 1, :mean -0.178654}\n",
      "{:count 2, :mean 0.3248255}\n",
      "{:count 3, :mean 0.2362919}\n",
      "{:count 4, :mean 0.1741917}\n",
      "{:count 5, :mean -0.15667464000000003}\n",
      "{:count 6, :mean -0.18306953333333337}\n",
      "{:count 7, :mean -0.20331617142857145}\n",
      "{:count 8, :mean -0.262446275}\n",
      "{:count 9, :mean -0.21517335555555556}\n",
      "{:count 10, :mean -0.27947242}\n"
     ]
    }
   ],
   "source": [
    "(dorun (map\n",
    "           (let [initial-count 0\n",
    "                 initial-mean  0\n",
    "                 initial-stats {:count initial-count :mean  initial-mean}\n",
    "                 running-stats (atom initial-stats)]\n",
    "               (fn [z]\n",
    "                   (let [{x :mean, n :count} @running-stats\n",
    "                         n+1 (inc n)\n",
    "                         K   (/ 1.0 n+1)]\n",
    "                       (swap! running-stats conj\n",
    "                              [:count n+1]\n",
    "                              [:mean (+ x (* K (- z x)))]))\n",
    "                   (println @running-stats)))\n",
    "           zs))"
   ]
  },
  {
   "cell_type": "markdown",
   "metadata": {},
   "source": [
    "### HOISTING THE FUNCTION"
   ]
  },
  {
   "cell_type": "markdown",
   "metadata": {},
   "source": [
    "We can remove the side-effector from inside the function and hoist it, making it more hospitable to application over async streams. The `map` will accumulate the intermediate values. This is like a `scan` in Haskell or a `FoldList` in Wolfram."
   ]
  },
  {
   "cell_type": "code",
   "execution_count": 148,
   "metadata": {
    "collapsed": false
   },
   "outputs": [
    {
     "name": "stdout",
     "output_type": "stream",
     "text": [
      "({:count 1, :mean -0.178654}\n",
      " {:count 2, :mean 0.3248255}\n",
      " {:count 3, :mean 0.2362919}\n",
      " {:count 4, :mean 0.1741917}\n",
      " {:count 5, :mean -0.15667464000000003}\n",
      " {:count 6, :mean -0.18306953333333337}\n",
      " {:count 7, :mean -0.20331617142857145}\n",
      " {:count 8, :mean -0.262446275}\n",
      " {:count 9, :mean -0.21517335555555556}\n",
      " {:count 10, :mean -0.27947242})\n"
     ]
    }
   ],
   "source": [
    "(defn make-running-stats-mapper []\n",
    "    (let [initial-count 0\n",
    "          initial-mean  0\n",
    "          initial-stats {:count initial-count :mean initial-mean}\n",
    "          running-stats (atom initial-stats)]\n",
    "        (fn [z]\n",
    "            (let [{x :mean, n :count} @running-stats\n",
    "                  n+1 (inc n)\n",
    "                  K   (/ 1.0 n+1)]\n",
    "                (swap! running-stats conj\n",
    "                       [:count n+1]\n",
    "                       [:mean (+ x (* K (- z x)))]))\n",
    "            @running-stats)))\n",
    "(clojure.pprint/pprint (map (make-running-stats-mapper) zs))"
   ]
  },
  {
   "cell_type": "markdown",
   "metadata": {},
   "source": [
    "### NUMERICAL CHECK"
   ]
  },
  {
   "cell_type": "code",
   "execution_count": 149,
   "metadata": {
    "collapsed": false
   },
   "outputs": [
    {
     "data": {
      "text/plain": [
       "-0.27947242"
      ]
     },
     "execution_count": 149,
     "metadata": {},
     "output_type": "execute_result"
    }
   ],
   "source": [
    "(defn mean [zs] (/ (reduce + zs) (count zs)))\n",
    "(mean zs)"
   ]
  },
  {
   "cell_type": "markdown",
   "metadata": {},
   "source": [
    "## CORE.ASYNC"
   ]
  },
  {
   "cell_type": "code",
   "execution_count": 150,
   "metadata": {
    "collapsed": true
   },
   "outputs": [],
   "source": [
    "(require '[clojure.core.async :refer [onto-chan sliding-buffer \n",
    "                                      dropping-buffer buffer\n",
    "                                      <!! <! >! >!! go chan \n",
    "                                      close! thread \n",
    "                                      alts! alts!! timeout]])"
   ]
  },
  {
   "cell_type": "markdown",
   "metadata": {},
   "source": [
    "We can write on the asynch thread and read on the UI thread:"
   ]
  },
  {
   "cell_type": "code",
   "execution_count": 151,
   "metadata": {
    "collapsed": false
   },
   "outputs": [
    {
     "name": "stdout",
     "output_type": "stream",
     "text": [
      "42\n"
     ]
    }
   ],
   "source": [
    "(let [c (chan)]\n",
    "    (go (>! c 42))\n",
    "    (println (<!! c))\n",
    "    (close! c))"
   ]
  },
  {
   "cell_type": "markdown",
   "metadata": {},
   "source": [
    "We can read on the async thread and write on the UI thread:"
   ]
  },
  {
   "cell_type": "code",
   "execution_count": 152,
   "metadata": {
    "collapsed": false
   },
   "outputs": [
    {
     "name": "stdout",
     "output_type": "stream",
     "text": [
      "42\n"
     ]
    }
   ],
   "source": [
    "(let [c (chan)]\n",
    "    (go (println (<! c)))\n",
    "    (>!! c 42)\n",
    "    (close! c))"
   ]
  },
  {
   "cell_type": "markdown",
   "metadata": {},
   "source": [
    "In all cases, we must do any blocking call without timeout on the UI thread last. The following will hang:"
   ]
  },
  {
   "cell_type": "code",
   "execution_count": 153,
   "metadata": {
    "collapsed": false
   },
   "outputs": [],
   "source": [
    "#_(let [c (chan)]\n",
    "    (>!! c 42)\n",
    "    (go (println (<! c)))\n",
    "    (close! c))"
   ]
  },
  {
   "cell_type": "markdown",
   "metadata": {},
   "source": [
    "We're won't block if we add a timeout, but we don't know how to write to a timeout channel:"
   ]
  },
  {
   "cell_type": "code",
   "execution_count": 153,
   "metadata": {
    "collapsed": false
   },
   "outputs": [
    {
     "name": "stdout",
     "output_type": "stream",
     "text": [
      "IllegalArgumentException No implementation of method: :put! of protocol: #'clojure.core.async.impl.protocols/WritePort found for class: clojure.lang.PersistentVector  clojure.core/-cache-protocol-fn (core_deftype.clj:568)\n"
     ]
    },
    {
     "ename": "class java.lang.IllegalArgumentException",
     "evalue": "",
     "output_type": "error",
     "traceback": [
      "       core_deftype.clj:   568 clojure.core$_cache_protocol_fn/invokeStatic                      ",
      "       core_deftype.clj:   560 clojure.core$_cache_protocol_fn/invoke                            ",
      "          protocols.clj:    18 clojure.core.async.impl.protocols$fn__10594$G__10589__10603/invoke",
      "              async.clj:   142 clojure.core.async$_GT__BANG__BANG_/invokeStatic                  ",
      "              async.clj:   137 clojure.core.async$_GT__BANG__BANG_/invoke                        ",
      "                     []:     2 user$eval6468/invokeStatic                                        ",
      "                     []:     1 user$eval6468/invoke                                              ",
      "               core.clj:  3105 clojure.core$eval/invokeStatic                                    ",
      "               core.clj:  3101 clojure.core$eval/invoke                                          ",
      "               main.clj:   240 clojure.main$repl$read_eval_print__7408$fn__7411/invoke           ",
      "               main.clj:   258 clojure.main$repl$fn__7417/invoke                                 ",
      "               main.clj:   174 clojure.main$repl/doInvoke                                        ",
      "            RestFn.java:  1523 clojure.lang.RestFn/invoke                                        ",
      "               AFn.java:   152 clojure.lang.AFn/applyToHelper                                    ",
      "               AFn.java:   144 clojure.lang.AFn/applyTo                                          ",
      "               core.clj:   646 clojure.core$apply/invokeStatic                                   ",
      "               core.clj:  1881 clojure.core$with_bindings_STAR_/invokeStatic                     ",
      "            RestFn.java:   425 clojure.lang.RestFn/invoke                                        ",
      "               AFn.java:    22 clojure.lang.AFn/run                                              ",
      "ThreadPoolExecutor.java:  1142 java.util.concurrent.ThreadPoolExecutor/runWorker                 ",
      "ThreadPoolExecutor.java:   617 java.util.concurrent.ThreadPoolExecutor$Worker/run                ",
      "            Thread.java:   748 java.lang.Thread/run                                              "
     ]
    }
   ],
   "source": [
    "(let [c (chan)]\n",
    "    (>!! (alts!! [c (timeout 500)]) 42)\n",
    "    (go (println (<! c)))\n",
    "    (close! c))"
   ]
  },
  {
   "cell_type": "markdown",
   "metadata": {
    "collapsed": true
   },
   "source": [
    "We can't read from a `timeout` channel either, but at least we won't hang. Here, we do the blocking read too early on the UI thread:"
   ]
  },
  {
   "cell_type": "code",
   "execution_count": 153,
   "metadata": {
    "collapsed": false
   },
   "outputs": [
    {
     "name": "stdout",
     "output_type": "stream",
     "text": [
      "IllegalArgumentException No implementation of method: :take! of protocol: #'clojure.core.async.impl.protocols/ReadPort found for class: clojure.lang.PersistentVector  clojure.core/-cache-protocol-fn (core_deftype.clj:568)\n"
     ]
    },
    {
     "ename": "class java.lang.IllegalArgumentException",
     "evalue": "",
     "output_type": "error",
     "traceback": [
      "       core_deftype.clj:   568 clojure.core$_cache_protocol_fn/invokeStatic                      ",
      "       core_deftype.clj:   560 clojure.core$_cache_protocol_fn/invoke                            ",
      "          protocols.clj:    15 clojure.core.async.impl.protocols$fn__10576$G__10571__10583/invoke",
      "              async.clj:   111 clojure.core.async$_LT__BANG__BANG_/invokeStatic                  ",
      "              async.clj:   106 clojure.core.async$_LT__BANG__BANG_/invoke                        ",
      "                     []:     2 user$eval6494/invokeStatic                                        ",
      "                     []:     1 user$eval6494/invoke                                              ",
      "               core.clj:  3105 clojure.core$eval/invokeStatic                                    ",
      "               core.clj:  3101 clojure.core$eval/invoke                                          ",
      "               main.clj:   240 clojure.main$repl$read_eval_print__7408$fn__7411/invoke           ",
      "               main.clj:   258 clojure.main$repl$fn__7417/invoke                                 ",
      "               main.clj:   174 clojure.main$repl/doInvoke                                        ",
      "            RestFn.java:  1523 clojure.lang.RestFn/invoke                                        ",
      "               AFn.java:   152 clojure.lang.AFn/applyToHelper                                    ",
      "               AFn.java:   144 clojure.lang.AFn/applyTo                                          ",
      "               core.clj:   646 clojure.core$apply/invokeStatic                                   ",
      "               core.clj:  1881 clojure.core$with_bindings_STAR_/invokeStatic                     ",
      "            RestFn.java:   425 clojure.lang.RestFn/invoke                                        ",
      "               AFn.java:    22 clojure.lang.AFn/run                                              ",
      "ThreadPoolExecutor.java:  1142 java.util.concurrent.ThreadPoolExecutor/runWorker                 ",
      "ThreadPoolExecutor.java:   617 java.util.concurrent.ThreadPoolExecutor$Worker/run                ",
      "            Thread.java:   748 java.lang.Thread/run                                              "
     ]
    }
   ],
   "source": [
    "(let [c (chan)]\n",
    "    (println (<!! (alts!! [c (timeout 500)])))\n",
    "    (go (>! c 42))\n",
    "    (close! c))"
   ]
  },
  {
   "cell_type": "markdown",
   "metadata": {},
   "source": [
    "The following illustrates putting data in a blocking channel at random times and reading some of them on the UI thread. It will leave values in the channel and thus leak the channel according to the documentation for `close!` here https://clojure.github.io/core.async/api-index.html#C."
   ]
  },
  {
   "cell_type": "code",
   "execution_count": 154,
   "metadata": {
    "collapsed": false
   },
   "outputs": [
    {
     "name": "stdout",
     "output_type": "stream",
     "text": [
      "-0.676357\n",
      "-0.315044\n",
      "0.16301\n"
     ]
    }
   ],
   "source": [
    "(def echo-chan (chan))\n",
    "\n",
    "(doseq   [z zs] (go (Thread/sleep (rand 100)) (>! echo-chan z)))\n",
    "(dotimes [_ 3] (println (<!! echo-chan)))\n",
    "\n",
    "(close! echo-chan)"
   ]
  },
  {
   "cell_type": "markdown",
   "metadata": {},
   "source": [
    "We can chain channels. Reading from `echo-chan` may hang the UI thread because the UI thread races the internal thread that reads `echo-chan`, but the timeout trick works here as above. This will also leak channels."
   ]
  },
  {
   "cell_type": "code",
   "execution_count": 154,
   "metadata": {
    "collapsed": false
   },
   "outputs": [
    {
     "name": "stdout",
     "output_type": "stream",
     "text": [
      "IllegalArgumentException No implementation of method: :take! of protocol: #'clojure.core.async.impl.protocols/ReadPort found for class: clojure.lang.PersistentVector  clojure.core/-cache-protocol-fn (core_deftype.clj:568)\n"
     ]
    },
    {
     "ename": "class java.lang.IllegalArgumentException",
     "evalue": "",
     "output_type": "error",
     "traceback": [
      "       core_deftype.clj:   568 clojure.core$_cache_protocol_fn/invokeStatic                      ",
      "       core_deftype.clj:   560 clojure.core$_cache_protocol_fn/invoke                            ",
      "          protocols.clj:    15 clojure.core.async.impl.protocols$fn__10576$G__10571__10583/invoke",
      "              async.clj:   111 clojure.core.async$_LT__BANG__BANG_/invokeStatic                  ",
      "              async.clj:   106 clojure.core.async$_LT__BANG__BANG_/invoke                        ",
      "                     []:     6 user$eval6663/invokeStatic                                        ",
      "               core.clj:  3105 clojure.core$eval/invokeStatic                                    ",
      "               core.clj:  3101 clojure.core$eval/invoke                                          ",
      "               main.clj:   240 clojure.main$repl$read_eval_print__7408$fn__7411/invoke           ",
      "               main.clj:   258 clojure.main$repl$fn__7417/invoke                                 ",
      "               main.clj:   174 clojure.main$repl/doInvoke                                        ",
      "            RestFn.java:  1523 clojure.lang.RestFn/invoke                                        ",
      "               AFn.java:   152 clojure.lang.AFn/applyToHelper                                    ",
      "               AFn.java:   144 clojure.lang.AFn/applyTo                                          ",
      "               core.clj:   646 clojure.core$apply/invokeStatic                                   ",
      "               core.clj:  1881 clojure.core$with_bindings_STAR_/invokeStatic                     ",
      "            RestFn.java:   425 clojure.lang.RestFn/invoke                                        ",
      "               AFn.java:    22 clojure.lang.AFn/run                                              ",
      "ThreadPoolExecutor.java:  1142 java.util.concurrent.ThreadPoolExecutor/runWorker                 ",
      "ThreadPoolExecutor.java:   617 java.util.concurrent.ThreadPoolExecutor$Worker/run                ",
      "            Thread.java:   748 java.lang.Thread/run                                              "
     ]
    }
   ],
   "source": [
    "(def echo-chan (chan))\n",
    "(def repl-chan (chan))\n",
    "\n",
    "(dotimes [_ 10] (go (>! repl-chan (<! echo-chan))))\n",
    "(doseq   [z zs] (go (Thread/sleep (rand 100)) (>! echo-chan z)))\n",
    "(dotimes [_ 3] (println (<!! (alts!! [echo-chan (timeout 500)]))))\n",
    "\n",
    "(close! echo-chan)\n",
    "(close! repl-chan)"
   ]
  },
  {
   "cell_type": "markdown",
   "metadata": {},
   "source": [
    "`println` on a `go` process works if we wait long enough. This, of course, is bad practice or \"code smell.\""
   ]
  },
  {
   "cell_type": "code",
   "execution_count": 155,
   "metadata": {
    "collapsed": false
   },
   "outputs": [
    {
     "name": "stdout",
     "output_type": "stream",
     "text": [
      "-0.324796\n",
      "-0.315044\n",
      "-1.48014\n"
     ]
    }
   ],
   "source": [
    "(def echo-chan (chan))\n",
    "\n",
    "(doseq   [z zs] (go (Thread/sleep (rand 100)) (>! echo-chan z)))\n",
    "(dotimes [_ 3]  (go (println (<! echo-chan))))\n",
    "\n",
    "(Thread/sleep 500) ; no visible output if you remove this line.\n",
    "(close! echo-chan)"
   ]
  },
  {
   "cell_type": "markdown",
   "metadata": {},
   "source": [
    "### ASYNC RUNNING MEAN"
   ]
  },
  {
   "cell_type": "markdown",
   "metadata": {},
   "source": [
    "We want our `running-stats` function called with the data delivered at random times and in random order. A transducer lets us collect items off the buffer. The size of the buffer does not matter."
   ]
  },
  {
   "cell_type": "code",
   "execution_count": 156,
   "metadata": {
    "collapsed": false
   },
   "outputs": [
    {
     "name": "stdout",
     "output_type": "stream",
     "text": [
      "{:count 1, :mean -0.676357}\n",
      "{:count 2, :mean -0.4275055}\n",
      "{:count 3, :mean -0.5710583333333333}\n",
      "{:count 4, :mean -0.50705475}\n",
      "{:count 5, :mean -0.2399828}\n",
      "{:count 6, :mean -0.20200381666666667}\n",
      "{:count 7, :mean -0.16468545714285715}\n",
      "{:count 8, :mean -0.184699275}\n",
      "{:count 9, :mean -0.1460649111111111}\n",
      "{:count 10, :mean -0.27947242}\n"
     ]
    }
   ],
   "source": [
    "(defn async-scan [zs mapper effector]\n",
    "    (let [transducer (map mapper)\n",
    "          echo-chan (chan (buffer 1) transducer)]\n",
    "        (doseq [z zs] (go (Thread/sleep (rand 100)) (>! echo-chan z)))\n",
    "        (dotimes [_ (count zs)] (effector (<!! echo-chan)))\n",
    "        (close! echo-chan)))\n",
    "(async-scan zs (make-running-stats-mapper) println)"
   ]
  },
  {
   "cell_type": "markdown",
   "metadata": {},
   "source": [
    "We now have complete parity between space (vector `zs`) and time (values on `echo-chan` in random order)."
   ]
  },
  {
   "cell_type": "markdown",
   "metadata": {},
   "source": [
    "## RUNNING STDDEV"
   ]
  },
  {
   "cell_type": "markdown",
   "metadata": {},
   "source": [
    "### BRUTE-FORCE (SCALAR VERSION)"
   ]
  },
  {
   "cell_type": "markdown",
   "metadata": {},
   "source": [
    "#### SSR: SUM OF SQUARED RESIDUALS"
   ]
  },
  {
   "cell_type": "code",
   "execution_count": 157,
   "metadata": {
    "collapsed": false
   },
   "outputs": [
    {
     "data": {
      "text/plain": [
       "3.5566483654807355"
      ]
     },
     "execution_count": 157,
     "metadata": {},
     "output_type": "execute_result"
    }
   ],
   "source": [
    "(defn ssr [sequ]\n",
    "    (let [m (mean sequ)]\n",
    "        (reduce #(+ %1 (* (- %2 m) (- %2 m)))\n",
    "                0 sequ)))\n",
    "(ssr zs)"
   ]
  },
  {
   "cell_type": "markdown",
   "metadata": {},
   "source": [
    "#### VARIANCE"
   ]
  },
  {
   "cell_type": "code",
   "execution_count": 158,
   "metadata": {
    "collapsed": false
   },
   "outputs": [
    {
     "data": {
      "text/plain": [
       "0.3951831517200817"
      ]
     },
     "execution_count": 158,
     "metadata": {},
     "output_type": "execute_result"
    }
   ],
   "source": [
    "(defn variance [sequ]\n",
    "    (let [n (count sequ)]\n",
    "        (case n\n",
    "            0 0\n",
    "            1 (first sequ)\n",
    "            #_default (/ (ssr sequ) (- n 1.0)))))\n",
    "(variance zs)"
   ]
  },
  {
   "cell_type": "markdown",
   "metadata": {},
   "source": [
    "Let's do a smaller example:"
   ]
  },
  {
   "cell_type": "code",
   "execution_count": 160,
   "metadata": {
    "collapsed": false
   },
   "outputs": [
    {
     "data": {
      "text/plain": [
       "2017.0"
      ]
     },
     "execution_count": 160,
     "metadata": {},
     "output_type": "execute_result"
    }
   ],
   "source": [
    "(def z2s [55. 89. 144.])\n",
    "(variance z2s)"
   ]
  },
  {
   "cell_type": "markdown",
   "metadata": {},
   "source": [
    "##### BAD VARIANCE"
   ]
  },
  {
   "cell_type": "markdown",
   "metadata": {},
   "source": [
    "Here is a really stupid recurrent form. It's stupid because\n",
    "1. it requires the whole sequence up front, so it cannot function in constant memory\n",
    "3. the intermediate values are meaningless because they refer to the final mean and count, not the intermediate ones\n",
    "\n",
    "But, the final value is correct."
   ]
  },
  {
   "cell_type": "code",
   "execution_count": 162,
   "metadata": {
    "collapsed": false
   },
   "outputs": [
    {
     "data": {
      "text/plain": [
       "(0 840.5 865.0 2017.0)"
      ]
     },
     "execution_count": 162,
     "metadata": {},
     "output_type": "execute_result"
    }
   ],
   "source": [
    "(reductions \n",
    "    (let [m (mean z2s)\n",
    "          c (count z2s)]\n",
    "        (fn [var z] (+ var (let [r (- z m)]\n",
    "                               (/ (* r r) (- c 1.0))))))\n",
    "    0 z2s)"
   ]
  },
  {
   "cell_type": "markdown",
   "metadata": {},
   "source": [
    "This is sufficiently stupid that we won't bother with a thread-safe, stateful, or asynchronous form."
   ]
  },
  {
   "cell_type": "markdown",
   "metadata": {},
   "source": [
    "##### SCHOOL VARIANCE"
   ]
  },
  {
   "cell_type": "markdown",
   "metadata": {},
   "source": [
    "Instead of the sum of squared residuals, $ssr$, we accumulate the sum of squares, $ssq$, which grows quickly. This is exposed to _catastrophic cancellation_, but works for our small example."
   ]
  },
  {
   "cell_type": "code",
   "execution_count": 168,
   "metadata": {
    "collapsed": false
   },
   "outputs": [
    {
     "name": "stdout",
     "output_type": "stream",
     "text": [
      "({:count 1, :mean 55.0, :variance 0.0, :ssq 3025.0}\n",
      " {:count 2, :mean 72.0, :variance 578.0, :ssq 10946.0}\n",
      " {:count 3, :mean 96.0, :variance 2017.0, :ssq 31682.0})\n"
     ]
    }
   ],
   "source": [
    "(defn make-school-stats-mapper []\n",
    "    (let [initial-count    0\n",
    "          initial-mean     0\n",
    "          initial-variance 0\n",
    "          initial-ssq      0\n",
    "          initial-stats {:count    initial-count\n",
    "                         :mean     initial-mean\n",
    "                         :variance initial-variance\n",
    "                         :ssq      initial-ssq}\n",
    "          running-stats (atom initial-stats)]\n",
    "        (fn [z]\n",
    "            (let [{x :mean, n :count, v :variance, s :ssq} @running-stats\n",
    "                  n+1 (inc n)\n",
    "                  K   (/ 1.0 n+1)\n",
    "                  r   (- z x)\n",
    "                  x2  (+ x (* K r))\n",
    "                  s2  (+ s (* z z))]\n",
    "                (swap! running-stats conj\n",
    "                       [:count    n+1]\n",
    "                       [:mean     x2 ]\n",
    "                       [:ssq      s2]\n",
    "                       [:variance (/ (- s2 (* n+1 x2 x2)) (max 1 n))]))\n",
    "            @running-stats)))\n",
    "(clojure.pprint/pprint (map (make-school-stats-mapper) z2s))"
   ]
  },
  {
   "cell_type": "markdown",
   "metadata": {},
   "source": [
    "##### RECURRENT VARIANCE"
   ]
  },
  {
   "cell_type": "code",
   "execution_count": 187,
   "metadata": {
    "collapsed": false
   },
   "outputs": [
    {
     "name": "stdout",
     "output_type": "stream",
     "text": [
      "({:count 1, :mean 55.0, :variance 0.0}\n",
      " {:count 2, :mean 72.0, :variance 578.0}\n",
      " {:count 3, :mean 96.0, :variance 2017.0})\n"
     ]
    }
   ],
   "source": [
    "(defn make-recurrent-stats-mapper []\n",
    "    (let [initial-count    0\n",
    "          initial-mean     0\n",
    "          initial-variance 0\n",
    "          initial-stats {:count    initial-count\n",
    "                         :mean     initial-mean\n",
    "                         :variance initial-variance}\n",
    "          running-stats (atom initial-stats)]\n",
    "        (fn [z]\n",
    "            (let [{x :mean, n :count, v :variance} @running-stats\n",
    "                  n+1 (inc n)\n",
    "                  K   (/ 1.0 (inc n))\n",
    "                  r   (- z x)\n",
    "                  x2  (+ x (* K r))\n",
    "                  ssr (+ (* (- n 1) v) ; old ssr is (* (- n 1) v)\n",
    "                         (* K n r r))]\n",
    "                (swap! running-stats conj\n",
    "                       [:count    n+1]\n",
    "                       [:mean     x2 ]\n",
    "                       [:variance (/ ssr  (max 1 n))]))\n",
    "            @running-stats)))\n",
    "(clojure.pprint/pprint (map (make-recurrent-stats-mapper) z2s))"
   ]
  },
  {
   "cell_type": "markdown",
   "metadata": {},
   "source": [
    "Of course, this works asynchronously, with potentially different intermediate values because the order is random."
   ]
  },
  {
   "cell_type": "code",
   "execution_count": 194,
   "metadata": {
    "collapsed": false
   },
   "outputs": [
    {
     "name": "stdout",
     "output_type": "stream",
     "text": [
      "{:count 1, :mean 144.0, :variance 0.0}\n",
      "{:count 2, :mean 116.5, :variance 1512.5}\n",
      "{:count 3, :mean 96.0, :variance 2017.0}\n"
     ]
    }
   ],
   "source": [
    "(async-scan z2s (make-recurrent-stats-mapper) println)"
   ]
  },
  {
   "cell_type": "markdown",
   "metadata": {},
   "source": [
    "#### WELFORD'S VARIANCE"
   ]
  },
  {
   "cell_type": "markdown",
   "metadata": {},
   "source": [
    "The above is equivalent, algebraically and numerically, to Welford's famous formula."
   ]
  },
  {
   "cell_type": "code",
   "execution_count": 191,
   "metadata": {
    "collapsed": false
   },
   "outputs": [
    {
     "name": "stdout",
     "output_type": "stream",
     "text": [
      "({:count 1, :mean 55.0, :variance 0.0}\n",
      " {:count 2, :mean 72.0, :variance 578.0}\n",
      " {:count 3, :mean 96.0, :variance 2017.0})\n"
     ]
    }
   ],
   "source": [
    "(defn make-welfords-stats-mapper []\n",
    "    (let [initial-count    0\n",
    "          initial-mean     0\n",
    "          initial-variance 0\n",
    "          initial-stats {:count    initial-count\n",
    "                         :mean     initial-mean\n",
    "                         :variance initial-variance}\n",
    "          running-stats (atom initial-stats)]\n",
    "        (fn [z]\n",
    "            (let [{x :mean, n :count, v :variance} @running-stats\n",
    "                  n+1 (inc n)\n",
    "                  K   (/ 1.0 n+1)\n",
    "                  r   (- z x)\n",
    "                  x2  (+ x (* K r))\n",
    "                  ssr (+ (* (- n 1) v) \n",
    "                         (* (- z x) (- z x2)))] ; <-- only difference to recurrent variance\n",
    "                (swap! running-stats conj\n",
    "                       [:count    n+1]\n",
    "                       [:mean     x2 ]\n",
    "                       [:variance (/ ssr  (max 1 n))]))\n",
    "            @running-stats)))\n",
    "(clojure.pprint/pprint (map (make-welfords-stats-mapper) z2s))"
   ]
  },
  {
   "cell_type": "markdown",
   "metadata": {},
   "source": [
    "## WINDOWED STATISTICS"
   ]
  },
  {
   "cell_type": "markdown",
   "metadata": {},
   "source": [
    "variable | description \n",
    "---------|-------------\n",
    "$n$      | how many points seen before this one\n",
    "$z$      | $=z_{n+1}$ current data point, at index $n + 1$\n",
    "$l$      | index of first point in window at least 1 wide and no more than $w$ wide\n",
    "$w$      | width of window\n",
    "$u$      | number of points including $z$ in the running window; converges to $w$.\n",
    "$m_{n+1}$| the mean of all points through $z_{n+1}$\n",
    "$m_l$    | the mean of all points through index $l-1 = n+1-w$, lagging $w$ behind $m_n$\n",
    "$m_w$    | the mean of all points within the window\n",
    "$u_{n+1}$| variance of all points through $z_{n+1}$\n",
    "$u_l$    | variance of all points through index $l-1 = n+1-w$, lagging $w$ behind $u_n$\n",
    "$u_w$    | variance of all points within the window"
   ]
  },
  {
   "cell_type": "markdown",
   "metadata": {},
   "source": [
    "$l=\\max(1,n-w+2)$"
   ]
  },
  {
   "cell_type": "markdown",
   "metadata": {},
   "source": [
    "$u=n-l+2$"
   ]
  },
  {
   "cell_type": "markdown",
   "metadata": {},
   "source": [
    "$m_{n+1}=x+\\frac{z-x}{n+1}$"
   ]
  },
  {
   "cell_type": "markdown",
   "metadata": {},
   "source": [
    "$ml=\\begin{cases} \n",
    "  x_w+\\frac{z_{n+1-w}}{} & x\\leq 0 \\\\\n",
    "  \\frac{100-x}{100} & 0\\leq x\\leq 100 \\\\\n",
    "  0 & 100\\leq x \n",
    "\\end{cases}$"
   ]
  },
  {
   "cell_type": "markdown",
   "metadata": {},
   "source": [
    "$w$      | width of window\n",
    "$u$      | number of points including $z$ in the running window; converges to $w$.\n",
    "$m_n$    | the mean of all points through $z_{n+1}$\n",
    "$m_l$    | the mean of all points through index $l-1 = n+1-w$, lagging $w$ behind $m_n$\n",
    "$m_w$    | the mean of all points within the window\n",
    "$u_n$    | variance of all points through $z_{n+1}$\n",
    "$u_l$    | variance of all points through index $l-1 = n+1-w$, lagging $w$ behind $u_n$\n",
    "$u_w$    | variance of all points within the window"
   ]
  }
 ],
 "metadata": {
  "kernelspec": {
   "display_name": "Clojure",
   "language": "clojure",
   "name": "clojure"
  },
  "language_info": {
   "file_extension": ".clj",
   "mimetype": "text/x-clojure",
   "name": "clojure",
   "version": "1.8.0"
  }
 },
 "nbformat": 4,
 "nbformat_minor": 2
}
